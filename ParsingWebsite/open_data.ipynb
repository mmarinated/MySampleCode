{
 "cells": [
  {
   "cell_type": "markdown",
   "metadata": {},
   "source": [
    "# Working with open data"
   ]
  },
  {
   "cell_type": "markdown",
   "metadata": {},
   "source": [
    "## Libraries"
   ]
  },
  {
   "cell_type": "code",
   "execution_count": 1,
   "metadata": {
    "collapsed": true
   },
   "outputs": [],
   "source": [
    "import requests\n",
    "from bs4 import BeautifulSoup"
   ]
  },
  {
   "cell_type": "markdown",
   "metadata": {},
   "source": [
    "## Website of the city"
   ]
  },
  {
   "cell_type": "code",
   "execution_count": 2,
   "metadata": {
    "collapsed": true
   },
   "outputs": [],
   "source": [
    "from urllib.parse import urlencode\n",
    "entrypoint = 'https://ru.wikipedia.org/w/index.php?'\n",
    "\n",
    "\n",
    "def mkurl(title, oldid):\n",
    "    return entrypoint + urlencode(dict(title=title, oldid=oldid))\n",
    "\n",
    "\n",
    "def city_site(name):\n",
    "    \"\"\"\n",
    "    Takes: name of the city.\n",
    "    Returns: link to its official website from Russian Wikipedia. If there is no link -- None. \n",
    "    \"\"\"\n",
    "    url = mkurl(name, '')\n",
    "    request = requests.get(url)\n",
    "    if request.ok:\n",
    "        page = BeautifulSoup(request.text, 'html.parser')\n",
    "        info = page.find('span', attrs={'data-wikidata-property-id': 'P856'})\n",
    "        if info:\n",
    "            link = info('a')\n",
    "            return link[0]['href']\n",
    "    \n",
    "    return None"
   ]
  },
  {
   "cell_type": "code",
   "execution_count": 3,
   "metadata": {},
   "outputs": [],
   "source": [
    "res = [\n",
    "   ('Москва', 'https://www.mos.ru/'),\n",
    "   ('Абакан', 'http://абакан.рф/'), \n",
    "   ('Анадырь', 'https://novomariinsk.ru/'), \n",
    "   ('Киров (Кировская область)', 'http://www.mo-kirov.ru'), \n",
    "   ('Южно-Сахалинск', 'http://yuzhno-sakh.ru/'), \n",
    "   ('Усть-Каменоустюгск', None)\n",
    "]\n",
    "\n",
    "for city, site in res:\n",
    "    assert city_site(city) == site"
   ]
  },
  {
   "cell_type": "markdown",
   "metadata": {},
   "source": [
    "## Finding weather"
   ]
  },
  {
   "cell_type": "code",
   "execution_count": 4,
   "metadata": {},
   "outputs": [],
   "source": [
    "def coordinates(place):\n",
    "    \"\"\"\n",
    "    Takes: name of the city.\n",
    "    Returns: coordinates of this city (latitude, longitude)\n",
    "    \"\"\"\n",
    "    url = 'https://geocode-maps.yandex.ru/1.x/?geocode=' + place\n",
    "    params = {\n",
    "        'action': 'query',\n",
    "        'format': 'json'\n",
    "    }\n",
    "\n",
    "    get_url = requests.get(url, params=params)\n",
    "    info = get_url.json()\n",
    "\n",
    "    raw_coor = info['response']['GeoObjectCollection']['featureMember'][0]['GeoObject']['Point']['pos']\n",
    "\n",
    "    return float(raw_coor.split()[1]), float(raw_coor.split()[0])\n",
    "\n",
    "\n",
    "def coordinates_as_string(place):\n",
    "    x, y = coordinates(place)\n",
    "    return str(x) + ', ' + str(y)\n",
    "\n",
    "\n",
    "import time\n",
    "import datetime\n",
    "\n",
    "\n",
    "def show_weather(city, year, month, day):\n",
    "    \"\"\"\n",
    "    Takes: city, year, month, day.\n",
    "    Returns: prints the description of the weather in this city on this date.\n",
    "    \"\"\"\n",
    "    \n",
    "    date = datetime.date(year, month, day)\n",
    "    unixtime = str(int(time.mktime(date.timetuple())))\n",
    "\n",
    "    coors = coordinates_as_string(city)\n",
    "\n",
    "    location = coors + ', ' + unixtime\n",
    "    url = 'https://api.darksky.net/forecast/c4663f90dec1f746f0f200b8a3aea5b0/' + location\n",
    "    params = {'units': 'si'}\n",
    "\n",
    "    get_url = requests.get(url, params=params)\n",
    "    query = get_url.json()\n",
    "\n",
    "    # average temperature during the day (from 10 to 18)\n",
    "    t1 = 0\n",
    "    for hour in range(10, 18):\n",
    "        t1 += query['hourly']['data'][hour]['apparentTemperature']\n",
    "    t1 = round(t1 / 8)\n",
    "\n",
    "    # average temperature during the night (from 00 to 7am)\n",
    "    t2 = 0\n",
    "    for hour in range(6):\n",
    "        t2 += query['hourly']['data'][hour]['apparentTemperature']\n",
    "    t2 = round(t2 / 6)\n",
    "\n",
    "    date_str = str(day) + '/' + str(month) + '/' + str(year)\n",
    "\n",
    "    message_weather = ('Here is information about the weather in {0} on {1}: \\n\\n'.format(city, date_str)\n",
    "                       + 'Mean temperature during the day (in degrees Celsius): {}\\n'.format(t1)\n",
    "                       + 'Mean temperature at night (in degrees Celsius): {}\\n'.format(t2)\n",
    "                       + 'Weather summary: \\n in the morning {0},\\n during the day {1}, \\n in the evening {2}.'.format(\n",
    "                                                                        query['hourly']['data'][9]['summary'],\n",
    "                                                                        query['hourly']['data'][15]['summary'],\n",
    "                                                                        query['hourly']['data'][19]['summary'])\n",
    "    )\n",
    "    print(message_weather)"
   ]
  },
  {
   "cell_type": "code",
   "execution_count": 5,
   "metadata": {},
   "outputs": [
    {
     "data": {
      "text/plain": [
       "'55.755814, 37.617635'"
      ]
     },
     "execution_count": 5,
     "metadata": {},
     "output_type": "execute_result"
    }
   ],
   "source": [
    "coordinates_as_string(\"Moscow\")"
   ]
  },
  {
   "cell_type": "code",
   "execution_count": 6,
   "metadata": {},
   "outputs": [
    {
     "data": {
      "text/plain": [
       "(-18.901408, 47.522172)"
      ]
     },
     "execution_count": 6,
     "metadata": {},
     "output_type": "execute_result"
    }
   ],
   "source": [
    "coordinates(\"Antananarivu\")"
   ]
  },
  {
   "cell_type": "code",
   "execution_count": 7,
   "metadata": {},
   "outputs": [
    {
     "name": "stdout",
     "output_type": "stream",
     "text": [
      "Here is information about the weather in Moscow on 1/4/2018: \n",
      "\n",
      "Mean temperature during the day (in degrees Celsius): -1\n",
      "Mean temperature at night (in degrees Celsius): -2\n",
      "Weather summary: \n",
      " in the morning Overcast,\n",
      " during the day Overcast, \n",
      " in the evening Mostly Cloudy.\n",
      "\n",
      "\n",
      "Meanwhile in Antananarivu... \n",
      "\n",
      "\n",
      "Here is information about the weather in Antananarivu on 1/4/2018: \n",
      "\n",
      "Mean temperature during the day (in degrees Celsius): 23\n",
      "Mean temperature at night (in degrees Celsius): 17\n",
      "Weather summary: \n",
      " in the morning Mostly Cloudy,\n",
      " during the day Mostly Cloudy, \n",
      " in the evening Clear.\n"
     ]
    }
   ],
   "source": [
    "# city\n",
    "city = 'Moscow'\n",
    "\n",
    "# date\n",
    "year = 2018\n",
    "month = 4\n",
    "day = 1\n",
    "\n",
    "show_weather(city, year, month, day)\n",
    "print('\\n\\nMeanwhile in Antananarivu... \\n\\n')\n",
    "show_weather('Antananarivu', year, month, day)"
   ]
  }
 ],
 "metadata": {
  "kernelspec": {
   "display_name": "Python 3",
   "language": "python",
   "name": "python3"
  },
  "language_info": {
   "codemirror_mode": {
    "name": "ipython",
    "version": 3
   },
   "file_extension": ".py",
   "mimetype": "text/x-python",
   "name": "python",
   "nbconvert_exporter": "python",
   "pygments_lexer": "ipython3",
   "version": "3.6.3"
  },
  "toc": {
   "nav_menu": {},
   "number_sections": true,
   "sideBar": true,
   "skip_h1_title": false,
   "title_cell": "Table of Contents",
   "title_sidebar": "Contents",
   "toc_cell": false,
   "toc_position": {},
   "toc_section_display": true,
   "toc_window_display": false
  },
  "varInspector": {
   "cols": {
    "lenName": 16,
    "lenType": 16,
    "lenVar": 40
   },
   "kernels_config": {
    "python": {
     "delete_cmd_postfix": "",
     "delete_cmd_prefix": "del ",
     "library": "var_list.py",
     "varRefreshCmd": "print(var_dic_list())"
    },
    "r": {
     "delete_cmd_postfix": ") ",
     "delete_cmd_prefix": "rm(",
     "library": "var_list.r",
     "varRefreshCmd": "cat(var_dic_list()) "
    }
   },
   "types_to_exclude": [
    "module",
    "function",
    "builtin_function_or_method",
    "instance",
    "_Feature"
   ],
   "window_display": false
  }
 },
 "nbformat": 4,
 "nbformat_minor": 2
}
